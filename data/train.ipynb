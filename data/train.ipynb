{
 "cells": [
  {
   "cell_type": "code",
   "execution_count": null,
   "metadata": {},
   "outputs": [],
   "source": [
    "import requests\n",
    "import json\n",
    "\n",
    "# Redfin GIS search API endpoint\n",
    "url = \"https://www.redfin.com/stingray/do/gis-search\"\n",
    "\n",
    "# Define parameters for searching homes for sale in Austin, TX\n",
    "params = {\n",
    "    \"status\": 1,  # Active listings\n",
    "    \"region_id\": 30749,  # Region ID for Austin, TX\n",
    "    \"region_type\": 6,  # City level search\n",
    "    \"uipt\": 1,  # Property type (House)\n",
    "    \"sp\": \"true\",  \n",
    "    \"al\": 3,  \n",
    "    \"lpp\": 50,  # Limit per page\n",
    "    \"mpt\": 99,  \n",
    "    \"page_number\": 1,  \n",
    "    \"num_homes\": 50,  # Number of results\n",
    "    \"min_price\": 200000,  \n",
    "    \"max_price\": 1000000,  \n",
    "    \"min_num_beds\": 3,  \n",
    "    \"min_num_baths\": 2,\n",
    "    \"render\": \"json\",  # Request JSON response\n",
    "    \"v\": 8\n",
    "}\n",
    "\n",
    "# Make request to Redfin API\n",
    "response = requests.get(url, params=params)\n",
    "\n",
    "# Check for valid response\n",
    "if response.status_code == 200:\n",
    "    data = response.json()\n",
    "    \n",
    "    # Extract homes data\n",
    "    homes = data.get('payload', {}).get('homes', [])\n",
    "\n",
    "    # Print formatted results\n",
    "    for home in homes[:10]:  # Limit to 10 results for readability\n",
    "        print(f\"Address: {home.get('streetLine', 'N/A')}, {home.get('city', 'N/A')}, {home.get('state', 'N/A')}\")\n",
    "        print(f\"Price: ${home.get('price', 'N/A')}\")\n",
    "        print(f\"Beds: {home.get('bedrooms', 'N/A')}, Baths: {home.get('baths', 'N/A')}\")\n",
    "        print(f\"Size: {home.get('sqFt', 'N/A')} sq ft\")\n",
    "        print(f\"Listing URL: https://www.redfin.com{home.get('url', '')}\\n\")\n",
    "else:\n",
    "    print(\"Failed to retrieve data\")\n"
   ]
  }
 ],
 "metadata": {
  "language_info": {
   "name": "plaintext"
  },
  "orig_nbformat": 4
 },
 "nbformat": 4,
 "nbformat_minor": 2
}
